{
 "cells": [
  {
   "cell_type": "raw",
   "id": "50beea8b",
   "metadata": {},
   "source": [
    "1.Measure of Central Tendency\n",
    "    .Mean\n",
    "    .Median\n",
    "    .Mode\n",
    "2.Measure of Variation\n",
    "    .Variance\n",
    "    .Range\n",
    "    .Standard Deviation\n",
    "3.Measure of Shapes\n",
    "    .Skewness\n",
    "    .Kurtosis"
   ]
  },
  {
   "cell_type": "markdown",
   "id": "af4ef403",
   "metadata": {},
   "source": [
    "# 1. Import Libraries"
   ]
  },
  {
   "cell_type": "code",
   "execution_count": null,
   "id": "f963f8cb",
   "metadata": {},
   "outputs": [],
   "source": [
    "import numpy\n",
    "import matplotlib.pyplot"
   ]
  },
  {
   "cell_type": "markdown",
   "id": "a19b7ebb",
   "metadata": {},
   "source": [
    "# 2. Import the data"
   ]
  },
  {
   "cell_type": "code",
   "execution_count": null,
   "id": "e47036fa",
   "metadata": {},
   "outputs": [],
   "source": []
  },
  {
   "cell_type": "code",
   "execution_count": null,
   "id": "90f3de8a-d939-4c98-8d80-76c4d161d7a1",
   "metadata": {},
   "outputs": [],
   "source": []
  },
  {
   "cell_type": "code",
   "execution_count": null,
   "id": "97a7a389-71d9-4215-9c1e-dd0a28565b24",
   "metadata": {},
   "outputs": [],
   "source": []
  }
 ],
 "metadata": {
  "kernelspec": {
   "display_name": "Python 3 (ipykernel)",
   "language": "python",
   "name": "python3"
  },
  "language_info": {
   "codemirror_mode": {
    "name": "ipython",
    "version": 3
   },
   "file_extension": ".py",
   "mimetype": "text/x-python",
   "name": "python",
   "nbconvert_exporter": "python",
   "pygments_lexer": "ipython3",
   "version": "3.12.4"
  }
 },
 "nbformat": 4,
 "nbformat_minor": 5
}
