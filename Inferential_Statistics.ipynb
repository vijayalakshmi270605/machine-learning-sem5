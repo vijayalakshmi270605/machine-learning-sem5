{
 "cells": [
  {
   "cell_type": "code",
   "execution_count": 1,
   "id": "80827277-4997-4b8a-970c-f3618ef66a69",
   "metadata": {},
   "outputs": [],
   "source": [
    "import numpy as np"
   ]
  },
  {
   "cell_type": "markdown",
   "id": "895412e6-5e81-4f00-aae1-baccb483c9cd",
   "metadata": {},
   "source": [
    "# Generate sample data: heights of 30 students (in inches)"
   ]
  },
  {
   "cell_type": "code",
   "execution_count": 3,
   "id": "ee5bc69c-2574-4242-b96d-c048ded0baba",
   "metadata": {},
   "outputs": [],
   "source": [
    "np.random.seed(40)\n",
    "heights = np.random.normal(loc=65, scale=3, size=30)"
   ]
  },
  {
   "cell_type": "code",
   "execution_count": 4,
   "id": "c3f845a7-0835-40db-bc81-77de5fb059cd",
   "metadata": {},
   "outputs": [
    {
     "data": {
      "text/plain": [
       "array([63.17735691, 64.62159076, 62.94618092, 67.78614425, 59.4667969 ,\n",
       "       63.59899273, 71.87747103, 66.46643016, 67.13080097, 68.16660333,\n",
       "       65.1622193 , 65.77386025, 66.76484495, 67.65573272, 61.94897893,\n",
       "       64.59892091, 63.6854435 , 66.48033048, 64.40297264, 61.17504918,\n",
       "       65.88048246, 65.32685094, 65.09518036, 68.81791959, 68.2143437 ,\n",
       "       66.24745404, 69.65203769, 64.06586325, 60.86228028, 69.11422636])"
      ]
     },
     "execution_count": 4,
     "metadata": {},
     "output_type": "execute_result"
    }
   ],
   "source": [
    "heights"
   ]
  },
  {
   "cell_type": "markdown",
   "id": "90fbaf3e-3087-4316-b284-fca2035417a9",
   "metadata": {},
   "source": [
    "# Point estimation: calculate the sample mean"
   ]
  },
  {
   "cell_type": "code",
   "execution_count": 6,
   "id": "49879b51-7c1c-486d-9072-5b166f91bd02",
   "metadata": {},
   "outputs": [
    {
     "name": "stdout",
     "output_type": "stream",
     "text": [
      "Sample Mean (Point Estimate): 65.53877864874389\n"
     ]
    }
   ],
   "source": [
    "sample_mean = np.mean(heights)\n",
    "print(\"Sample Mean (Point Estimate):\", sample_mean)"
   ]
  },
  {
   "cell_type": "code",
   "execution_count": 7,
   "id": "e019ebcc-7dc2-4fd3-b73d-2d1fe7b68b5f",
   "metadata": {},
   "outputs": [],
   "source": [
    "import scipy.stats as stats"
   ]
  },
  {
   "cell_type": "markdown",
   "id": "fab309f6-243d-40e0-9e22-732b3e78ed52",
   "metadata": {},
   "source": [
    "# Generate sample data: heights of 30 students (in inches)"
   ]
  },
  {
   "cell_type": "code",
   "execution_count": 9,
   "id": "71aa4294-fc58-43a0-be53-5c45384f07de",
   "metadata": {},
   "outputs": [],
   "source": [
    "np.random.seed(42)\n",
    "height = np.random.normal(loc=65, scale=3, size=30)"
   ]
  },
  {
   "cell_type": "markdown",
   "id": "a4454775-de97-41dd-aa97-2d194d6b8571",
   "metadata": {},
   "source": [
    "# Calculate the sample mean nad standard deviation"
   ]
  },
  {
   "cell_type": "code",
   "execution_count": 11,
   "id": "95f2ab45-64f9-42f1-8d8c-1c06d6ba181e",
   "metadata": {},
   "outputs": [],
   "source": [
    "sample_mean = np.mean(height)\n",
    "sample_std = np.std(heights, ddof=1)"
   ]
  },
  {
   "cell_type": "markdown",
   "id": "e793050f-9c90-4129-b449-f15e61fcff4c",
   "metadata": {},
   "source": [
    "# Set the desired confidence level"
   ]
  },
  {
   "cell_type": "code",
   "execution_count": 13,
   "id": "16e1ef04-e377-4547-833a-2b7c59aaf232",
   "metadata": {},
   "outputs": [],
   "source": [
    "confidence_level = 0.95"
   ]
  },
  {
   "cell_type": "markdown",
   "id": "943ce94e-5b43-47e7-aff8-72a8b18968a5",
   "metadata": {},
   "source": [
    "# Calculate the margin of error "
   ]
  },
  {
   "cell_type": "code",
   "execution_count": 15,
   "id": "b16619bc-2d18-4575-89b4-4d28c28c38b2",
   "metadata": {},
   "outputs": [],
   "source": [
    "margin_of_error = stats.t.ppf((1 + confidence_level) / 2, len(height) - 1) * (sample_std / np.sqrt(len(height)))"
   ]
  },
  {
   "cell_type": "markdown",
   "id": "d33dd517-5359-4e02-b726-7700751c14ce",
   "metadata": {},
   "source": [
    "# Calculate the confidence interval"
   ]
  },
  {
   "cell_type": "code",
   "execution_count": 17,
   "id": "b03f2709-c2be-4967-9ea9-2c997639b671",
   "metadata": {},
   "outputs": [],
   "source": [
    "lower_bound = sample_mean - margin_of_error\n",
    "upper_bound = sample_mean + margin_of_error"
   ]
  },
  {
   "cell_type": "code",
   "execution_count": 18,
   "id": "0d37bb58-ebe0-4658-9bd1-37ec81a84d70",
   "metadata": {},
   "outputs": [
    {
     "data": {
      "text/plain": [
       "63.39218494803431"
      ]
     },
     "execution_count": 18,
     "metadata": {},
     "output_type": "execute_result"
    }
   ],
   "source": [
    "lower_bound"
   ]
  },
  {
   "cell_type": "code",
   "execution_count": 19,
   "id": "f54a9939-6970-44ee-92b2-507fdf94e047",
   "metadata": {},
   "outputs": [
    {
     "data": {
      "text/plain": [
       "65.47893367685946"
      ]
     },
     "execution_count": 19,
     "metadata": {},
     "output_type": "execute_result"
    }
   ],
   "source": [
    "upper_bound"
   ]
  },
  {
   "cell_type": "markdown",
   "id": "03e10adf-0eea-43fc-b05e-e0928b0df901",
   "metadata": {},
   "source": [
    "# print the confidence interval"
   ]
  },
  {
   "cell_type": "code",
   "execution_count": 21,
   "id": "836e727c-a73a-4239-ab5a-490c988e7620",
   "metadata": {},
   "outputs": [
    {
     "name": "stdout",
     "output_type": "stream",
     "text": [
      "Confidence Interval (95.0%): [63.39218494803431, 65.47893367685946]\n"
     ]
    }
   ],
   "source": [
    "print(f\"Confidence Interval ({confidence_level*100}%): [{lower_bound}, {upper_bound}]\")"
   ]
  },
  {
   "cell_type": "code",
   "execution_count": null,
   "id": "8a47fbfb-f6a6-4ab5-bdc2-6f1232017c6b",
   "metadata": {},
   "outputs": [],
   "source": []
  },
  {
   "cell_type": "markdown",
   "id": "2a255ad5-035b-4f4a-8788-f388f8d46367",
   "metadata": {},
   "source": [
    "# Hypothesis T Test,"
   ]
  },
  {
   "cell_type": "markdown",
   "id": "ba5ee325-ceec-4f31-b187-c33ae88c69d4",
   "metadata": {},
   "source": [
    "# Generate Sample data for two groups"
   ]
  },
  {
   "cell_type": "code",
   "execution_count": 24,
   "id": "48b176b6-8172-4b50-a7b5-88735100025b",
   "metadata": {},
   "outputs": [],
   "source": [
    "np.random.seed(42)\n",
    "group1_scores = np.random.normal(loc=70, scale=5, size=30)\n",
    "group2_scores = np.random.normal(loc=75, scale=5, size=30)"
   ]
  },
  {
   "cell_type": "markdown",
   "id": "089f6e26-cf1a-4baa-958d-4682466d7338",
   "metadata": {},
   "source": [
    "# Perform independent t-test"
   ]
  },
  {
   "cell_type": "code",
   "execution_count": 26,
   "id": "658ee6a7-70bc-4eb4-b12d-359eb4af0926",
   "metadata": {},
   "outputs": [],
   "source": [
    "t_statistic, p_value = stats.ttest_ind(group1_scores, group2_scores)"
   ]
  },
  {
   "cell_type": "markdown",
   "id": "2e9270b6-556a-45c8-8a7b-cec8209f833e",
   "metadata": {},
   "source": [
    "# Set the significance level"
   ]
  },
  {
   "cell_type": "code",
   "execution_count": 28,
   "id": "c78c389e-6f4f-4a76-bf5d-5bd101677700",
   "metadata": {},
   "outputs": [],
   "source": [
    "alpha = 0.05"
   ]
  },
  {
   "cell_type": "markdown",
   "id": "50b2b64a-c202-48aa-b270-0d7fd5155183",
   "metadata": {},
   "source": [
    "# Print the result"
   ]
  },
  {
   "cell_type": "code",
   "execution_count": 30,
   "id": "45f9912b-3182-4f71-83c6-c6bf24892faa",
   "metadata": {},
   "outputs": [
    {
     "name": "stdout",
     "output_type": "stream",
     "text": [
      "T-test Results : \n",
      "T'statistic :  -4.512913234547576\n",
      "P_value :  3.176506547469916e-05\n"
     ]
    }
   ],
   "source": [
    "print(\"T-test Results : \")\n",
    "print(\"T'statistic : \", t_statistic)\n",
    "print(\"P_value : \", p_value)"
   ]
  },
  {
   "cell_type": "markdown",
   "id": "f936f97b-1dfe-4131-a56b-c0f1aaa37b36",
   "metadata": {},
   "source": [
    "# Check if the p_value is less than alpha to determine significance"
   ]
  },
  {
   "cell_type": "code",
   "execution_count": 32,
   "id": "fb9bc100-2b3e-4a63-bb65-8d11e1ce53a9",
   "metadata": {},
   "outputs": [
    {
     "name": "stdout",
     "output_type": "stream",
     "text": [
      "Reject the null hypothesis. There is a significant difference between the mean of the two groups.\n"
     ]
    }
   ],
   "source": [
    "if p_value < alpha:\n",
    "    print(\"Reject the null hypothesis. There is a significant difference between the mean of the two groups.\")\n",
    "else:\n",
    "    print(\"Fail to reject the null hypothesis. There is no significant difference between the mean of the two groups.\")"
   ]
  },
  {
   "cell_type": "markdown",
   "id": "d1c7a1d2-7347-468f-9b75-e35779ca2467",
   "metadata": {},
   "source": [
    "# Perform two-tailed t-test"
   ]
  },
  {
   "cell_type": "code",
   "execution_count": 34,
   "id": "4ffb850a-390b-4236-8212-399f7932e685",
   "metadata": {},
   "outputs": [],
   "source": [
    "t_statistic_2tail, p_value_2tail = stats.ttest_ind(group1_scores, group2_scores)"
   ]
  },
  {
   "cell_type": "markdown",
   "id": "b6fa02b6-131d-45ea-bf00-7aa5932aeee8",
   "metadata": {},
   "source": [
    "# Perform one-tailed t-test (right-tailed)"
   ]
  },
  {
   "cell_type": "code",
   "execution_count": 36,
   "id": "c8a65f73-432f-4502-8021-c22d9a16d61a",
   "metadata": {},
   "outputs": [],
   "source": [
    "t_statistic_1tail_right, p_value_1tail_right = stats.ttest_ind(group1_scores, group2_scores,alternative = 'greater'                                                         )"
   ]
  },
  {
   "cell_type": "markdown",
   "id": "602ddcdc-3c72-4532-9756-ccf649ce3e9e",
   "metadata": {},
   "source": [
    "# Perform one-tailed t-test (left-tailed)"
   ]
  },
  {
   "cell_type": "code",
   "execution_count": 38,
   "id": "8679cd72-501e-45f3-b04d-1d2e95f5eca8",
   "metadata": {},
   "outputs": [],
   "source": [
    "t_statistic_1tail_left, p_value_1tail_left = stats.ttest_ind(group1_scores, group2_scores,alternative = 'less')"
   ]
  },
  {
   "cell_type": "markdown",
   "id": "5eae08ec-7e1c-4612-b0a7-6fbb2d047aa6",
   "metadata": {},
   "source": [
    "# Print two-tailed test results"
   ]
  },
  {
   "cell_type": "code",
   "execution_count": 40,
   "id": "96f44b59-e21f-43db-8ec7-e6fed95cbadf",
   "metadata": {},
   "outputs": [
    {
     "name": "stdout",
     "output_type": "stream",
     "text": [
      "Two-tailed Test :\n",
      "T-statistic :  -4.512913234547576\n",
      "P-value :  3.176506547469916e-05\n"
     ]
    }
   ],
   "source": [
    "print(\"Two-tailed Test :\")\n",
    "print(\"T-statistic : \", t_statistic_2tail)\n",
    "print(\"P-value : \", p_value_2tail)"
   ]
  },
  {
   "cell_type": "markdown",
   "id": "29af87a1-1662-47cf-a865-73397f07a599",
   "metadata": {},
   "source": [
    "# Print one-tailed (right-tialed) test result"
   ]
  },
  {
   "cell_type": "code",
   "execution_count": 42,
   "id": "6b89918c-a666-4d69-9eab-6c787c557135",
   "metadata": {},
   "outputs": [
    {
     "name": "stdout",
     "output_type": "stream",
     "text": [
      "One-tailed Test (right-tailed) :\n",
      "T-statistic :  -4.512913234547576\n",
      "P-value :  0.9999841174672627\n"
     ]
    }
   ],
   "source": [
    "print(\"One-tailed Test (right-tailed) :\")\n",
    "print(\"T-statistic : \", t_statistic_1tail_right)\n",
    "print(\"P-value : \", p_value_1tail_right)"
   ]
  },
  {
   "cell_type": "markdown",
   "id": "c21f8610-dd35-4ba1-b179-2413adce5471",
   "metadata": {},
   "source": [
    "# Print one-tailed (left-tialed) test result"
   ]
  },
  {
   "cell_type": "code",
   "execution_count": 44,
   "id": "01d9de6e-95e8-4b59-8c5c-0945f6bbfed6",
   "metadata": {},
   "outputs": [
    {
     "name": "stdout",
     "output_type": "stream",
     "text": [
      "One-tailed Test (left-tailed) :\n",
      "T-statistic :  -4.512913234547576\n",
      "P-value :  1.588253273734958e-05\n"
     ]
    }
   ],
   "source": [
    "print(\"One-tailed Test (left-tailed) :\")\n",
    "print(\"T-statistic : \", t_statistic_1tail_left)\n",
    "print(\"P-value : \", p_value_1tail_left)"
   ]
  },
  {
   "cell_type": "code",
   "execution_count": null,
   "id": "b8ca1bf0-229e-4c25-bf88-55173afa83ab",
   "metadata": {},
   "outputs": [],
   "source": []
  },
  {
   "cell_type": "code",
   "execution_count": null,
   "id": "4f286ebc-8bce-45f9-992f-9c578e05b9ef",
   "metadata": {},
   "outputs": [],
   "source": []
  }
 ],
 "metadata": {
  "kernelspec": {
   "display_name": "Python 3 (ipykernel)",
   "language": "python",
   "name": "python3"
  },
  "language_info": {
   "codemirror_mode": {
    "name": "ipython",
    "version": 3
   },
   "file_extension": ".py",
   "mimetype": "text/x-python",
   "name": "python",
   "nbconvert_exporter": "python",
   "pygments_lexer": "ipython3",
   "version": "3.12.4"
  }
 },
 "nbformat": 4,
 "nbformat_minor": 5
}
