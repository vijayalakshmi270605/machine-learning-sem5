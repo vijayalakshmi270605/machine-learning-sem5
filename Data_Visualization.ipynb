{
 "cells": [
  {
   "cell_type": "raw",
   "id": "6fbf3b2d",
   "metadata": {},
   "source": [
    "PDS_EXPENSE={}"
   ]
  },
  {
   "cell_type": "code",
   "execution_count": null,
   "id": "55f1006c",
   "metadata": {
    "scrolled": false
   },
   "outputs": [],
   "source": [
    "import pandas as pd"
   ]
  },
  {
   "cell_type": "code",
   "execution_count": null,
   "id": "712b759c",
   "metadata": {
    "scrolled": true
   },
   "outputs": [],
   "source": [
    "data=pd.read_csv('MT cars.csv')"
   ]
  },
  {
   "cell_type": "code",
   "execution_count": null,
   "id": "3e55af5d",
   "metadata": {
    "scrolled": true
   },
   "outputs": [],
   "source": [
    "data"
   ]
  },
  {
   "cell_type": "code",
   "execution_count": null,
   "id": "6366fd5d",
   "metadata": {},
   "outputs": [],
   "source": [
    "datas=pd.read_csv('Flights 1m.csv')"
   ]
  },
  {
   "cell_type": "code",
   "execution_count": null,
   "id": "98f1afea",
   "metadata": {
    "scrolled": true
   },
   "outputs": [],
   "source": [
    "datas"
   ]
  },
  {
   "cell_type": "code",
   "execution_count": null,
   "id": "c84cc3ca",
   "metadata": {},
   "outputs": [],
   "source": [
    "data.to_csv('COPY.csv')"
   ]
  },
  {
   "cell_type": "code",
   "execution_count": null,
   "id": "3c3949e6",
   "metadata": {},
   "outputs": [],
   "source": [
    "copy_data=pd.read_csv('COPY.csv')"
   ]
  },
  {
   "cell_type": "code",
   "execution_count": null,
   "id": "7a937df2",
   "metadata": {},
   "outputs": [],
   "source": [
    "copy_data"
   ]
  },
  {
   "cell_type": "raw",
   "id": "542ffcbf",
   "metadata": {},
   "source": [
    "pip install matplotlib"
   ]
  },
  {
   "cell_type": "raw",
   "id": "e442ba2d",
   "metadata": {},
   "source": [
    "Daata=pd.DataFrame(copy_data,columns=[\"model\",\"mpg\",\"cyl\",\"disp\",\"hp\",\"drat\",\"wt\",\"qsec\",\"vs\",\"am\",\"gear\",\"carb\"])"
   ]
  },
  {
   "cell_type": "raw",
   "id": "52c39894",
   "metadata": {},
   "source": [
    "Daata"
   ]
  },
  {
   "cell_type": "raw",
   "id": "d9372d08",
   "metadata": {},
   "source": [
    "import matplotlib.pyplot as pt\n",
    "%matplotlib inline"
   ]
  },
  {
   "cell_type": "markdown",
   "id": "9e8a3883",
   "metadata": {},
   "source": [
    "# SCATTER PLOT"
   ]
  },
  {
   "cell_type": "raw",
   "id": "092a03c6",
   "metadata": {},
   "source": [
    "pt.scatter(\"Name\",\"ATTENDANCEPERCENTAGE\")"
   ]
  },
  {
   "cell_type": "raw",
   "id": "855cc8f9",
   "metadata": {},
   "source": [
    "Daata[\"model\"]=Daata[\"model [In capital letters]\"]"
   ]
  },
  {
   "cell_type": "code",
   "execution_count": null,
   "id": "89193f03",
   "metadata": {},
   "outputs": [],
   "source": []
  }
 ],
 "metadata": {
  "kernelspec": {
   "display_name": "Python 3 (ipykernel)",
   "language": "python",
   "name": "python3"
  },
  "language_info": {
   "codemirror_mode": {
    "name": "ipython",
    "version": 3
   },
   "file_extension": ".py",
   "mimetype": "text/x-python",
   "name": "python",
   "nbconvert_exporter": "python",
   "pygments_lexer": "ipython3",
   "version": "3.9.7"
  }
 },
 "nbformat": 4,
 "nbformat_minor": 5
}
