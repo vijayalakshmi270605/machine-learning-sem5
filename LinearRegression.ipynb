{
 "cells": [
  {
   "cell_type": "markdown",
   "id": "ca1f5cc0-6e16-4464-8037-44ba713ac279",
   "metadata": {},
   "source": [
    "# Machine Learning - Supervised Learning"
   ]
  },
  {
   "cell_type": "raw",
   "id": "c417bfac-7c51-4c3b-913c-46278e707f76",
   "metadata": {},
   "source": [
    "1. Regression\n",
    "2. classificationb"
   ]
  },
  {
   "cell_type": "raw",
   "id": "50052dbb-a50e-4892-bcfe-06dbe701bdff",
   "metadata": {},
   "source": [
    "pip install numpy==2.0.2"
   ]
  },
  {
   "cell_type": "raw",
   "id": "fcdfe690-b244-4ef2-9fc5-2d5d04b99b75",
   "metadata": {},
   "source": [
    "pip install -U numpy"
   ]
  },
  {
   "cell_type": "code",
   "execution_count": 1,
   "id": "1e3c4a99-e912-4d87-8b46-1e0e3d778a63",
   "metadata": {},
   "outputs": [
    {
     "data": {
      "text/plain": [
       "'1.26.4'"
      ]
     },
     "execution_count": 1,
     "metadata": {},
     "output_type": "execute_result"
    }
   ],
   "source": [
    "import numpy as np\n",
    "np.__version__"
   ]
  },
  {
   "cell_type": "markdown",
   "id": "da13cb97-2565-425b-ab6e-ffd8978de2f2",
   "metadata": {},
   "source": [
    "# Importing Library"
   ]
  },
  {
   "cell_type": "raw",
   "id": "a8a1b556-2ed6-41e2-96ad-7fbba80ee76a",
   "metadata": {},
   "source": [
    "pip install pandas==2.2.3"
   ]
  },
  {
   "cell_type": "code",
   "execution_count": 3,
   "id": "69f30916-2d8c-4393-9c0f-7d6ad38707a5",
   "metadata": {},
   "outputs": [
    {
     "data": {
      "text/plain": [
       "'2.2.3'"
      ]
     },
     "execution_count": 3,
     "metadata": {},
     "output_type": "execute_result"
    }
   ],
   "source": [
    "import pandas as pd\n",
    "pd.__version__"
   ]
  },
  {
   "cell_type": "raw",
   "id": "c227fbc0-102e-4f83-9444-aa3fa66b18a8",
   "metadata": {},
   "source": [
    "pip install --upgrade matplotlib"
   ]
  },
  {
   "cell_type": "code",
   "execution_count": 5,
   "id": "ea426ceb-36a2-4ddd-abf7-c2060891dae5",
   "metadata": {},
   "outputs": [],
   "source": [
    "import matplotlib.pyplot as plt\n",
    "%matplotlib inline"
   ]
  },
  {
   "cell_type": "markdown",
   "id": "184d0393-c057-4e19-94a0-0b80b9e4d587",
   "metadata": {},
   "source": [
    "# Import Data set"
   ]
  },
  {
   "cell_type": "code",
   "execution_count": 7,
   "id": "b92aceda-cdab-43f6-a6c7-5bc59f4b6cc5",
   "metadata": {},
   "outputs": [],
   "source": [
    "my_data = pd.read_csv('Admission_Predict.csv')"
   ]
  },
  {
   "cell_type": "code",
   "execution_count": null,
   "id": "73ab1296-468d-4e56-a894-52730ad802e3",
   "metadata": {
    "scrolled": true
   },
   "outputs": [],
   "source": [
    "my_data"
   ]
  },
  {
   "cell_type": "raw",
   "id": "36f019c9-edcc-49c0-99f7-4af5ecafe3fc",
   "metadata": {},
   "source": [
    "i) Serial No.\n",
    "ii) GRE Score\t\n",
    "iii) TOEFL Score\t\n",
    "iv) University Rating\n",
    "v) SOP\n",
    "vi) LOR\n",
    "vii) CGPA\n",
    "viii) Research\n",
    "ix) Chance of Admit"
   ]
  },
  {
   "cell_type": "code",
   "execution_count": null,
   "id": "a0e84065-218a-4941-9a62-9375f4628a88",
   "metadata": {},
   "outputs": [],
   "source": [
    "# Copy the content of "
   ]
  },
  {
   "cell_type": "code",
   "execution_count": 9,
   "id": "c69f350f-97b4-4515-baaf-bea6ebe77d5b",
   "metadata": {},
   "outputs": [],
   "source": [
    "my_data_2 = my_data.drop([\"Serial No.\",\"GRE Score\",\"TOEFL Score\",\"University Rating\",\"SOP\",\"LOR \",\"Research\"], axis=1)"
   ]
  },
  {
   "cell_type": "code",
   "execution_count": null,
   "id": "75ea5002-a6aa-4a4f-8734-0b3dcef83a4b",
   "metadata": {
    "scrolled": true
   },
   "outputs": [],
   "source": [
    "my_data_2"
   ]
  },
  {
   "cell_type": "code",
   "execution_count": null,
   "id": "6635fb85-b311-4862-b341-3b2f10fa97d9",
   "metadata": {},
   "outputs": [],
   "source": [
    "x1 = my_data_2.iloc[0:11,:]"
   ]
  },
  {
   "cell_type": "code",
   "execution_count": null,
   "id": "6a368a2a-ac4e-437d-a25c-397694938dd2",
   "metadata": {
    "scrolled": true
   },
   "outputs": [],
   "source": [
    "x1"
   ]
  },
  {
   "cell_type": "code",
   "execution_count": 11,
   "id": "c858167c-dc55-4f69-bfb6-d64f4542dc42",
   "metadata": {},
   "outputs": [],
   "source": [
    "x = my_data_2.iloc[:,0].values.reshape(-1,1)\n",
    "y = my_data_2.iloc[:,1].values.reshape(-1,1)"
   ]
  },
  {
   "cell_type": "code",
   "execution_count": null,
   "id": "5d015fe4-f97d-4c1b-a4aa-a8fede6bd5cb",
   "metadata": {
    "scrolled": true
   },
   "outputs": [],
   "source": [
    "x"
   ]
  },
  {
   "cell_type": "code",
   "execution_count": null,
   "id": "a187adf2-820a-41ee-b56f-917e6045ec23",
   "metadata": {},
   "outputs": [],
   "source": [
    "y"
   ]
  },
  {
   "cell_type": "markdown",
   "id": "64927fe0-3a34-40c2-8402-2f6a972d4198",
   "metadata": {},
   "source": [
    "# Splitting the dataset"
   ]
  },
  {
   "cell_type": "raw",
   "id": "bbc670a5-391d-47f1-8a14-96706409f871",
   "metadata": {},
   "source": [
    "pip install scikit-learn"
   ]
  },
  {
   "cell_type": "code",
   "execution_count": 13,
   "id": "aed740f7-5d88-4a2c-a1a5-b5b36b12cc2e",
   "metadata": {},
   "outputs": [],
   "source": [
    "from sklearn.model_selection import train_test_split"
   ]
  },
  {
   "cell_type": "code",
   "execution_count": 14,
   "id": "2f5daedc-65a5-4e1c-a7e7-3c20576614bd",
   "metadata": {},
   "outputs": [],
   "source": [
    "x_train,x_test,y_train,y_test=train_test_split(x,y,test_size=0.2,random_state=0)"
   ]
  },
  {
   "cell_type": "code",
   "execution_count": null,
   "id": "68e04656-4942-402d-a9ed-14a9320eeaf7",
   "metadata": {
    "scrolled": true
   },
   "outputs": [],
   "source": [
    "x_train"
   ]
  },
  {
   "cell_type": "code",
   "execution_count": null,
   "id": "4e043880-94ef-41bd-bc5f-b980860b2779",
   "metadata": {},
   "outputs": [],
   "source": [
    "y_train"
   ]
  },
  {
   "cell_type": "code",
   "execution_count": null,
   "id": "2d43e19d-c1f0-4727-870d-6ab600767a00",
   "metadata": {},
   "outputs": [],
   "source": [
    "x_test"
   ]
  },
  {
   "cell_type": "code",
   "execution_count": null,
   "id": "5afc46d8-c0a9-4912-a214-d7acbb0b2e0d",
   "metadata": {
    "scrolled": true
   },
   "outputs": [],
   "source": [
    "y_test"
   ]
  },
  {
   "cell_type": "raw",
   "id": "0e1190af-5fd3-4655-9a4c-ee338976bdea",
   "metadata": {},
   "source": [
    "The shapes of x and y look good:\n",
    "\n",
    "x has a shape of (320, 1), which means you have 320 samples with 1 feature.\n",
    "y has a shape of (320,), indicating that you have 320 target values."
   ]
  },
  {
   "cell_type": "raw",
   "id": "8f9e8752-e779-4ad8-9cd8-d46978b5eb90",
   "metadata": {
    "scrolled": true
   },
   "source": [
    "print(x_train.shape)  # (n_samples, 1)\n",
    "print(y_train.shape)  # (n_samples, 1)"
   ]
  },
  {
   "cell_type": "raw",
   "id": "2a1a09a2-be49-4e07-98ff-098ddf705ea3",
   "metadata": {},
   "source": [
    "y_train = y_train.flatten()"
   ]
  },
  {
   "cell_type": "raw",
   "id": "f9f0ed65-8552-4826-99eb-243a22c2b05e",
   "metadata": {},
   "source": [
    "print(x_train.shape)  # should be (n_samples, 1)\n",
    "print(y_train.shape)  # should be (n_samples,)"
   ]
  },
  {
   "cell_type": "code",
   "execution_count": 17,
   "id": "f8caa53d-114d-4ccf-9798-9cece72c361b",
   "metadata": {},
   "outputs": [],
   "source": [
    "from sklearn.linear_model import LinearRegression\n",
    "\n",
    "ams = LinearRegression()\n",
    "lm = LinearRegression()"
   ]
  },
  {
   "cell_type": "raw",
   "id": "99fb7fc3-26fc-47de-916b-e3bd346171fb",
   "metadata": {},
   "source": [
    "<class 'abc.ABCMeta'>\n",
    "\n",
    "The output <class 'abc.ABCMeta'> indicates that lm is not an instance of LinearRegression, but rather an abstract base class (ABC). This suggests that somewhere in your code, lm was assigned incorrectly or LinearRegression itself was overridden."
   ]
  },
  {
   "cell_type": "code",
   "execution_count": 19,
   "id": "7b0c2b65-8b18-4bbb-95ca-a12c36753ac4",
   "metadata": {
    "scrolled": true
   },
   "outputs": [
    {
     "name": "stdout",
     "output_type": "stream",
     "text": [
      "<class 'sklearn.linear_model._base.LinearRegression'>\n",
      "<class 'sklearn.linear_model._base.LinearRegression'>\n"
     ]
    }
   ],
   "source": [
    "print(type(ams))  # Should output <class 'sklearn.linear_model._base.LinearRegression'>\n",
    "print(type(lm))"
   ]
  },
  {
   "cell_type": "code",
   "execution_count": 21,
   "id": "8769dd57-833c-457e-bb06-699d2717fd33",
   "metadata": {
    "scrolled": true
   },
   "outputs": [
    {
     "data": {
      "text/html": [
       "<style>#sk-container-id-1 {\n",
       "  /* Definition of color scheme common for light and dark mode */\n",
       "  --sklearn-color-text: black;\n",
       "  --sklearn-color-line: gray;\n",
       "  /* Definition of color scheme for unfitted estimators */\n",
       "  --sklearn-color-unfitted-level-0: #fff5e6;\n",
       "  --sklearn-color-unfitted-level-1: #f6e4d2;\n",
       "  --sklearn-color-unfitted-level-2: #ffe0b3;\n",
       "  --sklearn-color-unfitted-level-3: chocolate;\n",
       "  /* Definition of color scheme for fitted estimators */\n",
       "  --sklearn-color-fitted-level-0: #f0f8ff;\n",
       "  --sklearn-color-fitted-level-1: #d4ebff;\n",
       "  --sklearn-color-fitted-level-2: #b3dbfd;\n",
       "  --sklearn-color-fitted-level-3: cornflowerblue;\n",
       "\n",
       "  /* Specific color for light theme */\n",
       "  --sklearn-color-text-on-default-background: var(--sg-text-color, var(--theme-code-foreground, var(--jp-content-font-color1, black)));\n",
       "  --sklearn-color-background: var(--sg-background-color, var(--theme-background, var(--jp-layout-color0, white)));\n",
       "  --sklearn-color-border-box: var(--sg-text-color, var(--theme-code-foreground, var(--jp-content-font-color1, black)));\n",
       "  --sklearn-color-icon: #696969;\n",
       "\n",
       "  @media (prefers-color-scheme: dark) {\n",
       "    /* Redefinition of color scheme for dark theme */\n",
       "    --sklearn-color-text-on-default-background: var(--sg-text-color, var(--theme-code-foreground, var(--jp-content-font-color1, white)));\n",
       "    --sklearn-color-background: var(--sg-background-color, var(--theme-background, var(--jp-layout-color0, #111)));\n",
       "    --sklearn-color-border-box: var(--sg-text-color, var(--theme-code-foreground, var(--jp-content-font-color1, white)));\n",
       "    --sklearn-color-icon: #878787;\n",
       "  }\n",
       "}\n",
       "\n",
       "#sk-container-id-1 {\n",
       "  color: var(--sklearn-color-text);\n",
       "}\n",
       "\n",
       "#sk-container-id-1 pre {\n",
       "  padding: 0;\n",
       "}\n",
       "\n",
       "#sk-container-id-1 input.sk-hidden--visually {\n",
       "  border: 0;\n",
       "  clip: rect(1px 1px 1px 1px);\n",
       "  clip: rect(1px, 1px, 1px, 1px);\n",
       "  height: 1px;\n",
       "  margin: -1px;\n",
       "  overflow: hidden;\n",
       "  padding: 0;\n",
       "  position: absolute;\n",
       "  width: 1px;\n",
       "}\n",
       "\n",
       "#sk-container-id-1 div.sk-dashed-wrapped {\n",
       "  border: 1px dashed var(--sklearn-color-line);\n",
       "  margin: 0 0.4em 0.5em 0.4em;\n",
       "  box-sizing: border-box;\n",
       "  padding-bottom: 0.4em;\n",
       "  background-color: var(--sklearn-color-background);\n",
       "}\n",
       "\n",
       "#sk-container-id-1 div.sk-container {\n",
       "  /* jupyter's `normalize.less` sets `[hidden] { display: none; }`\n",
       "     but bootstrap.min.css set `[hidden] { display: none !important; }`\n",
       "     so we also need the `!important` here to be able to override the\n",
       "     default hidden behavior on the sphinx rendered scikit-learn.org.\n",
       "     See: https://github.com/scikit-learn/scikit-learn/issues/21755 */\n",
       "  display: inline-block !important;\n",
       "  position: relative;\n",
       "}\n",
       "\n",
       "#sk-container-id-1 div.sk-text-repr-fallback {\n",
       "  display: none;\n",
       "}\n",
       "\n",
       "div.sk-parallel-item,\n",
       "div.sk-serial,\n",
       "div.sk-item {\n",
       "  /* draw centered vertical line to link estimators */\n",
       "  background-image: linear-gradient(var(--sklearn-color-text-on-default-background), var(--sklearn-color-text-on-default-background));\n",
       "  background-size: 2px 100%;\n",
       "  background-repeat: no-repeat;\n",
       "  background-position: center center;\n",
       "}\n",
       "\n",
       "/* Parallel-specific style estimator block */\n",
       "\n",
       "#sk-container-id-1 div.sk-parallel-item::after {\n",
       "  content: \"\";\n",
       "  width: 100%;\n",
       "  border-bottom: 2px solid var(--sklearn-color-text-on-default-background);\n",
       "  flex-grow: 1;\n",
       "}\n",
       "\n",
       "#sk-container-id-1 div.sk-parallel {\n",
       "  display: flex;\n",
       "  align-items: stretch;\n",
       "  justify-content: center;\n",
       "  background-color: var(--sklearn-color-background);\n",
       "  position: relative;\n",
       "}\n",
       "\n",
       "#sk-container-id-1 div.sk-parallel-item {\n",
       "  display: flex;\n",
       "  flex-direction: column;\n",
       "}\n",
       "\n",
       "#sk-container-id-1 div.sk-parallel-item:first-child::after {\n",
       "  align-self: flex-end;\n",
       "  width: 50%;\n",
       "}\n",
       "\n",
       "#sk-container-id-1 div.sk-parallel-item:last-child::after {\n",
       "  align-self: flex-start;\n",
       "  width: 50%;\n",
       "}\n",
       "\n",
       "#sk-container-id-1 div.sk-parallel-item:only-child::after {\n",
       "  width: 0;\n",
       "}\n",
       "\n",
       "/* Serial-specific style estimator block */\n",
       "\n",
       "#sk-container-id-1 div.sk-serial {\n",
       "  display: flex;\n",
       "  flex-direction: column;\n",
       "  align-items: center;\n",
       "  background-color: var(--sklearn-color-background);\n",
       "  padding-right: 1em;\n",
       "  padding-left: 1em;\n",
       "}\n",
       "\n",
       "\n",
       "/* Toggleable style: style used for estimator/Pipeline/ColumnTransformer box that is\n",
       "clickable and can be expanded/collapsed.\n",
       "- Pipeline and ColumnTransformer use this feature and define the default style\n",
       "- Estimators will overwrite some part of the style using the `sk-estimator` class\n",
       "*/\n",
       "\n",
       "/* Pipeline and ColumnTransformer style (default) */\n",
       "\n",
       "#sk-container-id-1 div.sk-toggleable {\n",
       "  /* Default theme specific background. It is overwritten whether we have a\n",
       "  specific estimator or a Pipeline/ColumnTransformer */\n",
       "  background-color: var(--sklearn-color-background);\n",
       "}\n",
       "\n",
       "/* Toggleable label */\n",
       "#sk-container-id-1 label.sk-toggleable__label {\n",
       "  cursor: pointer;\n",
       "  display: block;\n",
       "  width: 100%;\n",
       "  margin-bottom: 0;\n",
       "  padding: 0.5em;\n",
       "  box-sizing: border-box;\n",
       "  text-align: center;\n",
       "}\n",
       "\n",
       "#sk-container-id-1 label.sk-toggleable__label-arrow:before {\n",
       "  /* Arrow on the left of the label */\n",
       "  content: \"▸\";\n",
       "  float: left;\n",
       "  margin-right: 0.25em;\n",
       "  color: var(--sklearn-color-icon);\n",
       "}\n",
       "\n",
       "#sk-container-id-1 label.sk-toggleable__label-arrow:hover:before {\n",
       "  color: var(--sklearn-color-text);\n",
       "}\n",
       "\n",
       "/* Toggleable content - dropdown */\n",
       "\n",
       "#sk-container-id-1 div.sk-toggleable__content {\n",
       "  max-height: 0;\n",
       "  max-width: 0;\n",
       "  overflow: hidden;\n",
       "  text-align: left;\n",
       "  /* unfitted */\n",
       "  background-color: var(--sklearn-color-unfitted-level-0);\n",
       "}\n",
       "\n",
       "#sk-container-id-1 div.sk-toggleable__content.fitted {\n",
       "  /* fitted */\n",
       "  background-color: var(--sklearn-color-fitted-level-0);\n",
       "}\n",
       "\n",
       "#sk-container-id-1 div.sk-toggleable__content pre {\n",
       "  margin: 0.2em;\n",
       "  border-radius: 0.25em;\n",
       "  color: var(--sklearn-color-text);\n",
       "  /* unfitted */\n",
       "  background-color: var(--sklearn-color-unfitted-level-0);\n",
       "}\n",
       "\n",
       "#sk-container-id-1 div.sk-toggleable__content.fitted pre {\n",
       "  /* unfitted */\n",
       "  background-color: var(--sklearn-color-fitted-level-0);\n",
       "}\n",
       "\n",
       "#sk-container-id-1 input.sk-toggleable__control:checked~div.sk-toggleable__content {\n",
       "  /* Expand drop-down */\n",
       "  max-height: 200px;\n",
       "  max-width: 100%;\n",
       "  overflow: auto;\n",
       "}\n",
       "\n",
       "#sk-container-id-1 input.sk-toggleable__control:checked~label.sk-toggleable__label-arrow:before {\n",
       "  content: \"▾\";\n",
       "}\n",
       "\n",
       "/* Pipeline/ColumnTransformer-specific style */\n",
       "\n",
       "#sk-container-id-1 div.sk-label input.sk-toggleable__control:checked~label.sk-toggleable__label {\n",
       "  color: var(--sklearn-color-text);\n",
       "  background-color: var(--sklearn-color-unfitted-level-2);\n",
       "}\n",
       "\n",
       "#sk-container-id-1 div.sk-label.fitted input.sk-toggleable__control:checked~label.sk-toggleable__label {\n",
       "  background-color: var(--sklearn-color-fitted-level-2);\n",
       "}\n",
       "\n",
       "/* Estimator-specific style */\n",
       "\n",
       "/* Colorize estimator box */\n",
       "#sk-container-id-1 div.sk-estimator input.sk-toggleable__control:checked~label.sk-toggleable__label {\n",
       "  /* unfitted */\n",
       "  background-color: var(--sklearn-color-unfitted-level-2);\n",
       "}\n",
       "\n",
       "#sk-container-id-1 div.sk-estimator.fitted input.sk-toggleable__control:checked~label.sk-toggleable__label {\n",
       "  /* fitted */\n",
       "  background-color: var(--sklearn-color-fitted-level-2);\n",
       "}\n",
       "\n",
       "#sk-container-id-1 div.sk-label label.sk-toggleable__label,\n",
       "#sk-container-id-1 div.sk-label label {\n",
       "  /* The background is the default theme color */\n",
       "  color: var(--sklearn-color-text-on-default-background);\n",
       "}\n",
       "\n",
       "/* On hover, darken the color of the background */\n",
       "#sk-container-id-1 div.sk-label:hover label.sk-toggleable__label {\n",
       "  color: var(--sklearn-color-text);\n",
       "  background-color: var(--sklearn-color-unfitted-level-2);\n",
       "}\n",
       "\n",
       "/* Label box, darken color on hover, fitted */\n",
       "#sk-container-id-1 div.sk-label.fitted:hover label.sk-toggleable__label.fitted {\n",
       "  color: var(--sklearn-color-text);\n",
       "  background-color: var(--sklearn-color-fitted-level-2);\n",
       "}\n",
       "\n",
       "/* Estimator label */\n",
       "\n",
       "#sk-container-id-1 div.sk-label label {\n",
       "  font-family: monospace;\n",
       "  font-weight: bold;\n",
       "  display: inline-block;\n",
       "  line-height: 1.2em;\n",
       "}\n",
       "\n",
       "#sk-container-id-1 div.sk-label-container {\n",
       "  text-align: center;\n",
       "}\n",
       "\n",
       "/* Estimator-specific */\n",
       "#sk-container-id-1 div.sk-estimator {\n",
       "  font-family: monospace;\n",
       "  border: 1px dotted var(--sklearn-color-border-box);\n",
       "  border-radius: 0.25em;\n",
       "  box-sizing: border-box;\n",
       "  margin-bottom: 0.5em;\n",
       "  /* unfitted */\n",
       "  background-color: var(--sklearn-color-unfitted-level-0);\n",
       "}\n",
       "\n",
       "#sk-container-id-1 div.sk-estimator.fitted {\n",
       "  /* fitted */\n",
       "  background-color: var(--sklearn-color-fitted-level-0);\n",
       "}\n",
       "\n",
       "/* on hover */\n",
       "#sk-container-id-1 div.sk-estimator:hover {\n",
       "  /* unfitted */\n",
       "  background-color: var(--sklearn-color-unfitted-level-2);\n",
       "}\n",
       "\n",
       "#sk-container-id-1 div.sk-estimator.fitted:hover {\n",
       "  /* fitted */\n",
       "  background-color: var(--sklearn-color-fitted-level-2);\n",
       "}\n",
       "\n",
       "/* Specification for estimator info (e.g. \"i\" and \"?\") */\n",
       "\n",
       "/* Common style for \"i\" and \"?\" */\n",
       "\n",
       ".sk-estimator-doc-link,\n",
       "a:link.sk-estimator-doc-link,\n",
       "a:visited.sk-estimator-doc-link {\n",
       "  float: right;\n",
       "  font-size: smaller;\n",
       "  line-height: 1em;\n",
       "  font-family: monospace;\n",
       "  background-color: var(--sklearn-color-background);\n",
       "  border-radius: 1em;\n",
       "  height: 1em;\n",
       "  width: 1em;\n",
       "  text-decoration: none !important;\n",
       "  margin-left: 1ex;\n",
       "  /* unfitted */\n",
       "  border: var(--sklearn-color-unfitted-level-1) 1pt solid;\n",
       "  color: var(--sklearn-color-unfitted-level-1);\n",
       "}\n",
       "\n",
       ".sk-estimator-doc-link.fitted,\n",
       "a:link.sk-estimator-doc-link.fitted,\n",
       "a:visited.sk-estimator-doc-link.fitted {\n",
       "  /* fitted */\n",
       "  border: var(--sklearn-color-fitted-level-1) 1pt solid;\n",
       "  color: var(--sklearn-color-fitted-level-1);\n",
       "}\n",
       "\n",
       "/* On hover */\n",
       "div.sk-estimator:hover .sk-estimator-doc-link:hover,\n",
       ".sk-estimator-doc-link:hover,\n",
       "div.sk-label-container:hover .sk-estimator-doc-link:hover,\n",
       ".sk-estimator-doc-link:hover {\n",
       "  /* unfitted */\n",
       "  background-color: var(--sklearn-color-unfitted-level-3);\n",
       "  color: var(--sklearn-color-background);\n",
       "  text-decoration: none;\n",
       "}\n",
       "\n",
       "div.sk-estimator.fitted:hover .sk-estimator-doc-link.fitted:hover,\n",
       ".sk-estimator-doc-link.fitted:hover,\n",
       "div.sk-label-container:hover .sk-estimator-doc-link.fitted:hover,\n",
       ".sk-estimator-doc-link.fitted:hover {\n",
       "  /* fitted */\n",
       "  background-color: var(--sklearn-color-fitted-level-3);\n",
       "  color: var(--sklearn-color-background);\n",
       "  text-decoration: none;\n",
       "}\n",
       "\n",
       "/* Span, style for the box shown on hovering the info icon */\n",
       ".sk-estimator-doc-link span {\n",
       "  display: none;\n",
       "  z-index: 9999;\n",
       "  position: relative;\n",
       "  font-weight: normal;\n",
       "  right: .2ex;\n",
       "  padding: .5ex;\n",
       "  margin: .5ex;\n",
       "  width: min-content;\n",
       "  min-width: 20ex;\n",
       "  max-width: 50ex;\n",
       "  color: var(--sklearn-color-text);\n",
       "  box-shadow: 2pt 2pt 4pt #999;\n",
       "  /* unfitted */\n",
       "  background: var(--sklearn-color-unfitted-level-0);\n",
       "  border: .5pt solid var(--sklearn-color-unfitted-level-3);\n",
       "}\n",
       "\n",
       ".sk-estimator-doc-link.fitted span {\n",
       "  /* fitted */\n",
       "  background: var(--sklearn-color-fitted-level-0);\n",
       "  border: var(--sklearn-color-fitted-level-3);\n",
       "}\n",
       "\n",
       ".sk-estimator-doc-link:hover span {\n",
       "  display: block;\n",
       "}\n",
       "\n",
       "/* \"?\"-specific style due to the `<a>` HTML tag */\n",
       "\n",
       "#sk-container-id-1 a.estimator_doc_link {\n",
       "  float: right;\n",
       "  font-size: 1rem;\n",
       "  line-height: 1em;\n",
       "  font-family: monospace;\n",
       "  background-color: var(--sklearn-color-background);\n",
       "  border-radius: 1rem;\n",
       "  height: 1rem;\n",
       "  width: 1rem;\n",
       "  text-decoration: none;\n",
       "  /* unfitted */\n",
       "  color: var(--sklearn-color-unfitted-level-1);\n",
       "  border: var(--sklearn-color-unfitted-level-1) 1pt solid;\n",
       "}\n",
       "\n",
       "#sk-container-id-1 a.estimator_doc_link.fitted {\n",
       "  /* fitted */\n",
       "  border: var(--sklearn-color-fitted-level-1) 1pt solid;\n",
       "  color: var(--sklearn-color-fitted-level-1);\n",
       "}\n",
       "\n",
       "/* On hover */\n",
       "#sk-container-id-1 a.estimator_doc_link:hover {\n",
       "  /* unfitted */\n",
       "  background-color: var(--sklearn-color-unfitted-level-3);\n",
       "  color: var(--sklearn-color-background);\n",
       "  text-decoration: none;\n",
       "}\n",
       "\n",
       "#sk-container-id-1 a.estimator_doc_link.fitted:hover {\n",
       "  /* fitted */\n",
       "  background-color: var(--sklearn-color-fitted-level-3);\n",
       "}\n",
       "</style><div id=\"sk-container-id-1\" class=\"sk-top-container\"><div class=\"sk-text-repr-fallback\"><pre>LinearRegression()</pre><b>In a Jupyter environment, please rerun this cell to show the HTML representation or trust the notebook. <br />On GitHub, the HTML representation is unable to render, please try loading this page with nbviewer.org.</b></div><div class=\"sk-container\" hidden><div class=\"sk-item\"><div class=\"sk-estimator fitted sk-toggleable\"><input class=\"sk-toggleable__control sk-hidden--visually\" id=\"sk-estimator-id-1\" type=\"checkbox\" checked><label for=\"sk-estimator-id-1\" class=\"sk-toggleable__label fitted sk-toggleable__label-arrow fitted\">&nbsp;&nbsp;LinearRegression<a class=\"sk-estimator-doc-link fitted\" rel=\"noreferrer\" target=\"_blank\" href=\"https://scikit-learn.org/1.4/modules/generated/sklearn.linear_model.LinearRegression.html\">?<span>Documentation for LinearRegression</span></a><span class=\"sk-estimator-doc-link fitted\">i<span>Fitted</span></span></label><div class=\"sk-toggleable__content fitted\"><pre>LinearRegression()</pre></div> </div></div></div></div>"
      ],
      "text/plain": [
       "LinearRegression()"
      ]
     },
     "execution_count": 21,
     "metadata": {},
     "output_type": "execute_result"
    }
   ],
   "source": [
    "ams.fit(x_train, y_train)"
   ]
  },
  {
   "cell_type": "code",
   "execution_count": 23,
   "id": "0a2b5ba2-9f5b-48a4-bcc4-263d74859645",
   "metadata": {},
   "outputs": [],
   "source": [
    "YPredict = ams.predict(x_test)"
   ]
  },
  {
   "cell_type": "code",
   "execution_count": 25,
   "id": "f13198dc-8c62-4ee9-8ae3-6b70073f55d7",
   "metadata": {
    "scrolled": true
   },
   "outputs": [
    {
     "data": {
      "text/plain": [
       "array([[0.71526369],\n",
       "       [0.72367342],\n",
       "       [0.75731236],\n",
       "       [0.65219067],\n",
       "       [0.75100506],\n",
       "       [0.61855173],\n",
       "       [0.74259533],\n",
       "       [0.61644929],\n",
       "       [0.8834584 ],\n",
       "       [0.896073  ],\n",
       "       [0.55547871],\n",
       "       [0.86663893],\n",
       "       [0.71526369],\n",
       "       [0.43984484],\n",
       "       [0.82879512],\n",
       "       [0.6606004 ],\n",
       "       [0.6353712 ],\n",
       "       [0.83930729],\n",
       "       [0.57440061],\n",
       "       [0.74259533],\n",
       "       [0.84140972],\n",
       "       [0.83720485],\n",
       "       [0.69634178],\n",
       "       [0.45876675],\n",
       "       [0.78043914],\n",
       "       [0.60593712],\n",
       "       [0.50081543],\n",
       "       [0.6606004 ],\n",
       "       [0.84771702],\n",
       "       [0.65008823],\n",
       "       [0.60593712],\n",
       "       [0.71316125],\n",
       "       [0.73418559],\n",
       "       [0.60383469],\n",
       "       [0.79095131],\n",
       "       [0.74890263],\n",
       "       [0.58070792],\n",
       "       [0.85612676],\n",
       "       [0.6542931 ],\n",
       "       [0.94653142],\n",
       "       [0.69423935],\n",
       "       [0.6542931 ],\n",
       "       [0.63957607],\n",
       "       [0.78043914],\n",
       "       [0.83089755],\n",
       "       [0.59752739],\n",
       "       [0.5239422 ],\n",
       "       [0.67531744],\n",
       "       [0.62696146],\n",
       "       [0.61224442],\n",
       "       [0.69844421],\n",
       "       [0.79936104],\n",
       "       [0.66480527],\n",
       "       [0.82248782],\n",
       "       [0.73208316],\n",
       "       [0.7657221 ],\n",
       "       [0.59752739],\n",
       "       [0.68162474],\n",
       "       [0.7657221 ],\n",
       "       [0.82879512],\n",
       "       [0.78674644],\n",
       "       [0.52183977],\n",
       "       [0.6416785 ],\n",
       "       [0.52814707],\n",
       "       [0.80356591],\n",
       "       [0.85402432],\n",
       "       [0.73208316],\n",
       "       [0.87925353],\n",
       "       [0.78464401],\n",
       "       [0.7531075 ],\n",
       "       [0.57650305],\n",
       "       [0.83510242],\n",
       "       [0.85402432],\n",
       "       [0.57650305],\n",
       "       [0.90448274],\n",
       "       [0.63957607],\n",
       "       [0.67321501],\n",
       "       [0.68793205],\n",
       "       [0.92130221],\n",
       "       [0.57440061]])"
      ]
     },
     "execution_count": 25,
     "metadata": {},
     "output_type": "execute_result"
    }
   ],
   "source": [
    "YPredict"
   ]
  },
  {
   "cell_type": "code",
   "execution_count": 27,
   "id": "78aa009c-49ea-49e4-ba08-77640ed7349f",
   "metadata": {},
   "outputs": [
    {
     "data": {
      "text/plain": [
       "80"
      ]
     },
     "execution_count": 27,
     "metadata": {},
     "output_type": "execute_result"
    }
   ],
   "source": [
    "len(YPredict)"
   ]
  },
  {
   "cell_type": "code",
   "execution_count": 29,
   "id": "a3069ce2-b502-4d4d-baec-a4fd8cc67cd3",
   "metadata": {},
   "outputs": [],
   "source": [
    "comparsion = pd.DataFrame(x_test, columns=[\"input Data\"])"
   ]
  },
  {
   "cell_type": "code",
   "execution_count": 31,
   "id": "87d7158c-22d2-40ad-a0e4-ddfdf4ee23f2",
   "metadata": {},
   "outputs": [],
   "source": [
    "comparsion[\"avl_o/p\"] = y_test"
   ]
  },
  {
   "cell_type": "code",
   "execution_count": 33,
   "id": "d9844f74-271d-4af9-a429-cd437e3f2d9f",
   "metadata": {
    "scrolled": true
   },
   "outputs": [],
   "source": [
    "comparsion[\"pre_o/p\"] = YPredict"
   ]
  },
  {
   "cell_type": "code",
   "execution_count": 35,
   "id": "2fc767bd-86f1-47df-b3f1-806b3f9f1e7b",
   "metadata": {},
   "outputs": [
    {
     "data": {
      "text/html": [
       "<div>\n",
       "<style scoped>\n",
       "    .dataframe tbody tr th:only-of-type {\n",
       "        vertical-align: middle;\n",
       "    }\n",
       "\n",
       "    .dataframe tbody tr th {\n",
       "        vertical-align: top;\n",
       "    }\n",
       "\n",
       "    .dataframe thead th {\n",
       "        text-align: right;\n",
       "    }\n",
       "</style>\n",
       "<table border=\"1\" class=\"dataframe\">\n",
       "  <thead>\n",
       "    <tr style=\"text-align: right;\">\n",
       "      <th></th>\n",
       "      <th>input Data</th>\n",
       "      <th>avl_o/p</th>\n",
       "      <th>pre_o/p</th>\n",
       "    </tr>\n",
       "  </thead>\n",
       "  <tbody>\n",
       "    <tr>\n",
       "      <th>0</th>\n",
       "      <td>8.56</td>\n",
       "      <td>0.71</td>\n",
       "      <td>0.715264</td>\n",
       "    </tr>\n",
       "    <tr>\n",
       "      <th>1</th>\n",
       "      <td>8.60</td>\n",
       "      <td>0.70</td>\n",
       "      <td>0.723673</td>\n",
       "    </tr>\n",
       "    <tr>\n",
       "      <th>2</th>\n",
       "      <td>8.76</td>\n",
       "      <td>0.79</td>\n",
       "      <td>0.757312</td>\n",
       "    </tr>\n",
       "    <tr>\n",
       "      <th>3</th>\n",
       "      <td>8.26</td>\n",
       "      <td>0.73</td>\n",
       "      <td>0.652191</td>\n",
       "    </tr>\n",
       "    <tr>\n",
       "      <th>4</th>\n",
       "      <td>8.73</td>\n",
       "      <td>0.72</td>\n",
       "      <td>0.751005</td>\n",
       "    </tr>\n",
       "    <tr>\n",
       "      <th>...</th>\n",
       "      <td>...</td>\n",
       "      <td>...</td>\n",
       "      <td>...</td>\n",
       "    </tr>\n",
       "    <tr>\n",
       "      <th>75</th>\n",
       "      <td>8.20</td>\n",
       "      <td>0.61</td>\n",
       "      <td>0.639576</td>\n",
       "    </tr>\n",
       "    <tr>\n",
       "      <th>76</th>\n",
       "      <td>8.36</td>\n",
       "      <td>0.69</td>\n",
       "      <td>0.673215</td>\n",
       "    </tr>\n",
       "    <tr>\n",
       "      <th>77</th>\n",
       "      <td>8.43</td>\n",
       "      <td>0.62</td>\n",
       "      <td>0.687932</td>\n",
       "    </tr>\n",
       "    <tr>\n",
       "      <th>78</th>\n",
       "      <td>9.54</td>\n",
       "      <td>0.93</td>\n",
       "      <td>0.921302</td>\n",
       "    </tr>\n",
       "    <tr>\n",
       "      <th>79</th>\n",
       "      <td>7.89</td>\n",
       "      <td>0.43</td>\n",
       "      <td>0.574401</td>\n",
       "    </tr>\n",
       "  </tbody>\n",
       "</table>\n",
       "<p>80 rows × 3 columns</p>\n",
       "</div>"
      ],
      "text/plain": [
       "    input Data  avl_o/p   pre_o/p\n",
       "0         8.56     0.71  0.715264\n",
       "1         8.60     0.70  0.723673\n",
       "2         8.76     0.79  0.757312\n",
       "3         8.26     0.73  0.652191\n",
       "4         8.73     0.72  0.751005\n",
       "..         ...      ...       ...\n",
       "75        8.20     0.61  0.639576\n",
       "76        8.36     0.69  0.673215\n",
       "77        8.43     0.62  0.687932\n",
       "78        9.54     0.93  0.921302\n",
       "79        7.89     0.43  0.574401\n",
       "\n",
       "[80 rows x 3 columns]"
      ]
     },
     "execution_count": 35,
     "metadata": {},
     "output_type": "execute_result"
    }
   ],
   "source": [
    "comparsion"
   ]
  },
  {
   "cell_type": "code",
   "execution_count": null,
   "id": "979c4c39-04d1-4b89-a0ed-393f42ae5e5d",
   "metadata": {},
   "outputs": [],
   "source": []
  }
 ],
 "metadata": {
  "kernelspec": {
   "display_name": "Python 3 (ipykernel)",
   "language": "python",
   "name": "python3"
  },
  "language_info": {
   "codemirror_mode": {
    "name": "ipython",
    "version": 3
   },
   "file_extension": ".py",
   "mimetype": "text/x-python",
   "name": "python",
   "nbconvert_exporter": "python",
   "pygments_lexer": "ipython3",
   "version": "3.12.4"
  }
 },
 "nbformat": 4,
 "nbformat_minor": 5
}
