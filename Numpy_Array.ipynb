{
 "cells": [
  {
   "cell_type": "code",
   "execution_count": 1,
   "id": "a5fbdc14",
   "metadata": {},
   "outputs": [],
   "source": [
    "import numpy as np"
   ]
  },
  {
   "cell_type": "code",
   "execution_count": 2,
   "id": "e534b07c",
   "metadata": {},
   "outputs": [],
   "source": [
    "ar1=np.array(6)"
   ]
  },
  {
   "cell_type": "code",
   "execution_count": 3,
   "id": "33a17836",
   "metadata": {},
   "outputs": [
    {
     "data": {
      "text/plain": [
       "array(6)"
      ]
     },
     "execution_count": 3,
     "metadata": {},
     "output_type": "execute_result"
    }
   ],
   "source": [
    "ar1"
   ]
  },
  {
   "cell_type": "code",
   "execution_count": 4,
   "id": "4904f371",
   "metadata": {},
   "outputs": [],
   "source": [
    "ar2=np.array([1,2,3,4,5])"
   ]
  },
  {
   "cell_type": "code",
   "execution_count": 5,
   "id": "0eac4e3e",
   "metadata": {},
   "outputs": [
    {
     "data": {
      "text/plain": [
       "array([1, 2, 3, 4, 5])"
      ]
     },
     "execution_count": 5,
     "metadata": {},
     "output_type": "execute_result"
    }
   ],
   "source": [
    "ar2"
   ]
  },
  {
   "cell_type": "code",
   "execution_count": 6,
   "id": "edf0b7a3",
   "metadata": {},
   "outputs": [],
   "source": [
    "zero_array=np.zeros(2)"
   ]
  },
  {
   "cell_type": "code",
   "execution_count": 7,
   "id": "3b4457c0",
   "metadata": {},
   "outputs": [
    {
     "data": {
      "text/plain": [
       "array([0., 0.])"
      ]
     },
     "execution_count": 7,
     "metadata": {},
     "output_type": "execute_result"
    }
   ],
   "source": [
    "zero_array"
   ]
  },
  {
   "cell_type": "code",
   "execution_count": 8,
   "id": "00a982a8",
   "metadata": {},
   "outputs": [],
   "source": [
    "one_array=np.ones((2,3))"
   ]
  },
  {
   "cell_type": "code",
   "execution_count": 9,
   "id": "62573f81",
   "metadata": {},
   "outputs": [
    {
     "data": {
      "text/plain": [
       "array([[1., 1., 1.],\n",
       "       [1., 1., 1.]])"
      ]
     },
     "execution_count": 9,
     "metadata": {},
     "output_type": "execute_result"
    }
   ],
   "source": [
    "one_array"
   ]
  },
  {
   "cell_type": "code",
   "execution_count": 10,
   "id": "d865bd6e",
   "metadata": {},
   "outputs": [],
   "source": [
    "ar4=np.arange(6)"
   ]
  },
  {
   "cell_type": "code",
   "execution_count": 11,
   "id": "98726c81",
   "metadata": {},
   "outputs": [
    {
     "data": {
      "text/plain": [
       "array([0, 1, 2, 3, 4, 5])"
      ]
     },
     "execution_count": 11,
     "metadata": {},
     "output_type": "execute_result"
    }
   ],
   "source": [
    "ar4"
   ]
  },
  {
   "cell_type": "code",
   "execution_count": 12,
   "id": "7f0bdebe",
   "metadata": {},
   "outputs": [],
   "source": [
    "ar5=np.arange(2,19,2)"
   ]
  },
  {
   "cell_type": "code",
   "execution_count": 13,
   "id": "45098949",
   "metadata": {},
   "outputs": [
    {
     "data": {
      "text/plain": [
       "array([ 2,  4,  6,  8, 10, 12, 14, 16, 18])"
      ]
     },
     "execution_count": 13,
     "metadata": {},
     "output_type": "execute_result"
    }
   ],
   "source": [
    "ar5"
   ]
  },
  {
   "cell_type": "code",
   "execution_count": 14,
   "id": "679a6e38",
   "metadata": {},
   "outputs": [],
   "source": [
    "ar6=np.transpose(ar5)"
   ]
  },
  {
   "cell_type": "code",
   "execution_count": 15,
   "id": "653ae977",
   "metadata": {},
   "outputs": [
    {
     "data": {
      "text/plain": [
       "array([ 2,  4,  6,  8, 10, 12, 14, 16, 18])"
      ]
     },
     "execution_count": 15,
     "metadata": {},
     "output_type": "execute_result"
    }
   ],
   "source": [
    "ar6"
   ]
  },
  {
   "cell_type": "code",
   "execution_count": 16,
   "id": "035be36b",
   "metadata": {},
   "outputs": [],
   "source": [
    "ar7=np.ravel(ar6)"
   ]
  },
  {
   "cell_type": "code",
   "execution_count": 17,
   "id": "01ee6b2c",
   "metadata": {},
   "outputs": [
    {
     "data": {
      "text/plain": [
       "array([ 2,  4,  6,  8, 10, 12, 14, 16, 18])"
      ]
     },
     "execution_count": 17,
     "metadata": {},
     "output_type": "execute_result"
    }
   ],
   "source": [
    "ar7"
   ]
  },
  {
   "cell_type": "code",
   "execution_count": 18,
   "id": "1b7eb263",
   "metadata": {},
   "outputs": [],
   "source": [
    "ar8=np.array([2,2])\n",
    "ar9=np.array([3,4])"
   ]
  },
  {
   "cell_type": "code",
   "execution_count": 19,
   "id": "04c1bfa2",
   "metadata": {},
   "outputs": [
    {
     "data": {
      "text/plain": [
       "array([2, 2])"
      ]
     },
     "execution_count": 19,
     "metadata": {},
     "output_type": "execute_result"
    }
   ],
   "source": [
    "ar8"
   ]
  },
  {
   "cell_type": "code",
   "execution_count": 20,
   "id": "2824815a",
   "metadata": {},
   "outputs": [],
   "source": [
    "concat=np.concatenate((ar8,ar9))"
   ]
  },
  {
   "cell_type": "code",
   "execution_count": 21,
   "id": "63b0f409",
   "metadata": {},
   "outputs": [
    {
     "data": {
      "text/plain": [
       "array([2, 2, 3, 4])"
      ]
     },
     "execution_count": 21,
     "metadata": {},
     "output_type": "execute_result"
    }
   ],
   "source": [
    "concat"
   ]
  },
  {
   "cell_type": "code",
   "execution_count": 22,
   "id": "ad3483b9",
   "metadata": {},
   "outputs": [],
   "source": [
    "hori = np.vstack((ar8,ar9))"
   ]
  },
  {
   "cell_type": "code",
   "execution_count": 23,
   "id": "a666ac50",
   "metadata": {},
   "outputs": [
    {
     "data": {
      "text/plain": [
       "array([[2, 2],\n",
       "       [3, 4]])"
      ]
     },
     "execution_count": 23,
     "metadata": {},
     "output_type": "execute_result"
    }
   ],
   "source": [
    "hori"
   ]
  },
  {
   "cell_type": "code",
   "execution_count": 24,
   "id": "976bc0aa",
   "metadata": {},
   "outputs": [
    {
     "data": {
      "text/plain": [
       "array([[1, 2, 3],\n",
       "       [4, 5, 6],\n",
       "       [7, 8, 9]])"
      ]
     },
     "execution_count": 24,
     "metadata": {},
     "output_type": "execute_result"
    }
   ],
   "source": [
    "# Create a 2x3 matrix with specific values\n",
    "matrix = np.array([[1, 2, 3],\n",
    "                   [4, 5, 6],\n",
    "                   [7, 8, 9]])\n",
    "matrix"
   ]
  },
  {
   "cell_type": "code",
   "execution_count": 25,
   "id": "3fa779e9",
   "metadata": {},
   "outputs": [
    {
     "data": {
      "text/plain": [
       "numpy.ndarray"
      ]
     },
     "execution_count": 25,
     "metadata": {},
     "output_type": "execute_result"
    }
   ],
   "source": [
    "type(matrix)"
   ]
  },
  {
   "cell_type": "code",
   "execution_count": 26,
   "id": "a1cc8a3b",
   "metadata": {},
   "outputs": [],
   "source": [
    "determinant = np.linalg.det(matrix)"
   ]
  },
  {
   "cell_type": "code",
   "execution_count": 27,
   "id": "547188d1",
   "metadata": {},
   "outputs": [
    {
     "data": {
      "text/plain": [
       "-9.51619735392994e-16"
      ]
     },
     "execution_count": 27,
     "metadata": {},
     "output_type": "execute_result"
    }
   ],
   "source": [
    "determinant"
   ]
  },
  {
   "cell_type": "code",
   "execution_count": 28,
   "id": "e505f1c9",
   "metadata": {},
   "outputs": [],
   "source": [
    "inverse = np.linalg.inv(matrix)"
   ]
  },
  {
   "cell_type": "code",
   "execution_count": 29,
   "id": "162f2e3f",
   "metadata": {},
   "outputs": [
    {
     "data": {
      "text/plain": [
       "array([[ 3.15251974e+15, -6.30503948e+15,  3.15251974e+15],\n",
       "       [-6.30503948e+15,  1.26100790e+16, -6.30503948e+15],\n",
       "       [ 3.15251974e+15, -6.30503948e+15,  3.15251974e+15]])"
      ]
     },
     "execution_count": 29,
     "metadata": {},
     "output_type": "execute_result"
    }
   ],
   "source": [
    "inverse"
   ]
  },
  {
   "cell_type": "code",
   "execution_count": 30,
   "id": "3dccb644",
   "metadata": {},
   "outputs": [
    {
     "name": "stdout",
     "output_type": "stream",
     "text": [
      "[[1. 0. 0. 0.]\n",
      " [0. 1. 0. 0.]\n",
      " [0. 0. 1. 0.]\n",
      " [0. 0. 0. 1.]]\n"
     ]
    }
   ],
   "source": [
    "# Create a 4x4 identity matrix\n",
    "identity_matrix = np.eye(4)\n",
    "\n",
    "print(identity_matrix)"
   ]
  },
  {
   "cell_type": "code",
   "execution_count": 31,
   "id": "3eda0fbc",
   "metadata": {
    "scrolled": true
   },
   "outputs": [
    {
     "name": "stdout",
     "output_type": "stream",
     "text": [
      "[[0.23443493 0.44780135 0.76253835]\n",
      " [0.27633001 0.13907656 0.48485467]\n",
      " [0.52461844 0.88112409 0.82781421]]\n"
     ]
    }
   ],
   "source": [
    "# Create a 3x3 matrix with random values between 0 and 1\n",
    "random_matrix = np.random.rand(3, 3)\n",
    "\n",
    "print(random_matrix)"
   ]
  },
  {
   "cell_type": "code",
   "execution_count": 32,
   "id": "d241dcbf",
   "metadata": {},
   "outputs": [
    {
     "name": "stdout",
     "output_type": "stream",
     "text": [
      "Sum of matrices:\n",
      " [[ 6  8]\n",
      " [10 12]]\n",
      "Difference of matrices:\n",
      " [[-4 -4]\n",
      " [-4 -4]]\n"
     ]
    }
   ],
   "source": [
    "# 1. Matrix Addition and Subtraction\n",
    "\n",
    "# Define two matrices\n",
    "matrix1 = np.array([[1, 2], [3, 4]])\n",
    "matrix2 = np.array([[5, 6], [7, 8]])\n",
    "\n",
    "# Matrix addition\n",
    "sum_matrix = matrix1 + matrix2\n",
    "\n",
    "# Matrix subtraction\n",
    "diff_matrix = matrix1 - matrix2\n",
    "\n",
    "print(\"Sum of matrices:\\n\", sum_matrix)\n",
    "print(\"Difference of matrices:\\n\", diff_matrix)"
   ]
  },
  {
   "cell_type": "code",
   "execution_count": 33,
   "id": "c4358840",
   "metadata": {},
   "outputs": [
    {
     "name": "stdout",
     "output_type": "stream",
     "text": [
      "Product of matrices:\n",
      " [[19 22]\n",
      " [43 50]]\n"
     ]
    }
   ],
   "source": [
    "# 2.Matrix Multiplication\n",
    "\n",
    "# Define two matrices\n",
    "matrix1 = np.array([[1, 2], [3, 4]])\n",
    "matrix2 = np.array([[5, 6], [7, 8]])\n",
    "\n",
    "# Matrix multiplication\n",
    "product_matrix = matrix1 @ matrix2  # or np.dot(matrix1, matrix2)\n",
    "\n",
    "print(\"Product of matrices:\\n\", product_matrix)"
   ]
  },
  {
   "cell_type": "code",
   "execution_count": 34,
   "id": "7efa91ac",
   "metadata": {},
   "outputs": [
    {
     "name": "stdout",
     "output_type": "stream",
     "text": [
      "Element-wise product:\n",
      " [[ 5 12]\n",
      " [21 32]]\n"
     ]
    }
   ],
   "source": [
    "# 3.Element-wise Multiplication\n",
    "\n",
    "# Define two matrices\n",
    "matrix1 = np.array([[1, 2], [3, 4]])\n",
    "matrix2 = np.array([[5, 6], [7, 8]])\n",
    "\n",
    "# Element-wise multiplication\n",
    "elementwise_product = matrix1 * matrix2\n",
    "\n",
    "print(\"Element-wise product:\\n\", elementwise_product)"
   ]
  },
  {
   "cell_type": "code",
   "execution_count": 35,
   "id": "b3384ed9",
   "metadata": {},
   "outputs": [
    {
     "name": "stdout",
     "output_type": "stream",
     "text": [
      "Transpose of the matrix:\n",
      " [[1 3]\n",
      " [2 4]]\n"
     ]
    }
   ],
   "source": [
    "# 4.Transpose of a Matrix\n",
    "\n",
    "# Define a matrix\n",
    "matrix = np.array([[1, 2], [3, 4]])\n",
    "\n",
    "# Transpose of the matrix\n",
    "transpose_matrix = matrix.T\n",
    "\n",
    "print(\"Transpose of the matrix:\\n\", transpose_matrix)"
   ]
  },
  {
   "cell_type": "code",
   "execution_count": 36,
   "id": "7933f970",
   "metadata": {},
   "outputs": [
    {
     "name": "stdout",
     "output_type": "stream",
     "text": [
      "Inverse of the matrix:\n",
      " [[-2.   1. ]\n",
      " [ 1.5 -0.5]]\n"
     ]
    }
   ],
   "source": [
    "# 5.Inverse of a Matrix\n",
    "\n",
    "# Define a square matrix\n",
    "matrix = np.array([[1, 2], [3, 4]])\n",
    "\n",
    "# Compute the inverse\n",
    "inverse_matrix = np.linalg.inv(matrix)\n",
    "\n",
    "print(\"Inverse of the matrix:\\n\", inverse_matrix)"
   ]
  },
  {
   "cell_type": "code",
   "execution_count": 37,
   "id": "7634680e",
   "metadata": {},
   "outputs": [
    {
     "name": "stdout",
     "output_type": "stream",
     "text": [
      "Eigenvalues:\n",
      " [-0.37228132  5.37228132]\n",
      "Eigenvectors:\n",
      " [[-0.82456484 -0.41597356]\n",
      " [ 0.56576746 -0.90937671]]\n"
     ]
    }
   ],
   "source": [
    "# 6.Eigenvalues and Eigenvectors\n",
    "\n",
    "# Define a square matrix\n",
    "matrix = np.array([[1, 2], [3, 4]])\n",
    "\n",
    "# Compute eigenvalues and eigenvectors\n",
    "eigenvalues, eigenvectors = np.linalg.eig(matrix)\n",
    "\n",
    "print(\"Eigenvalues:\\n\", eigenvalues)\n",
    "print(\"Eigenvectors:\\n\", eigenvectors)"
   ]
  },
  {
   "cell_type": "code",
   "execution_count": 38,
   "id": "0910fbc0",
   "metadata": {},
   "outputs": [
    {
     "name": "stdout",
     "output_type": "stream",
     "text": [
      "Frobenius norm of the matrix: 5.477225575051661\n"
     ]
    }
   ],
   "source": [
    "# 7.Matrix Norm\n",
    "\n",
    "# Define a matrix\n",
    "matrix = np.array([[1, 2], [3, 4]])\n",
    "\n",
    "# Compute the Frobenius norm (default)\n",
    "frobenius_norm = np.linalg.norm(matrix)\n",
    "\n",
    "print(\"Frobenius norm of the matrix:\", frobenius_norm)"
   ]
  },
  {
   "cell_type": "code",
   "execution_count": 39,
   "id": "baf0f523",
   "metadata": {
    "scrolled": true
   },
   "outputs": [
    {
     "name": "stdout",
     "output_type": "stream",
     "text": [
      "U matrix:\n",
      " [[-0.40455358 -0.9145143 ]\n",
      " [-0.9145143   0.40455358]]\n",
      "S (singular values):\n",
      " [5.4649857  0.36596619]\n",
      "Vt matrix:\n",
      " [[-0.57604844 -0.81741556]\n",
      " [ 0.81741556 -0.57604844]]\n"
     ]
    }
   ],
   "source": [
    "# 8.Singular Value Decomposition (SVD)\n",
    "\n",
    "# Define a matrix\n",
    "matrix = np.array([[1, 2], [3, 4]])\n",
    "\n",
    "# Compute the SVD\n",
    "U, S, Vt = np.linalg.svd(matrix)\n",
    "\n",
    "print(\"U matrix:\\n\", U)\n",
    "print(\"S (singular values):\\n\", S)\n",
    "print(\"Vt matrix:\\n\", Vt)"
   ]
  },
  {
   "cell_type": "code",
   "execution_count": 40,
   "id": "875c7d6c",
   "metadata": {},
   "outputs": [
    {
     "name": "stdout",
     "output_type": "stream",
     "text": [
      "Rank of the matrix: 2\n"
     ]
    }
   ],
   "source": [
    "# 9.Matrix Rank\n",
    "\n",
    "# Define a matrix\n",
    "matrix = np.array([[1, 2], [3, 4]])\n",
    "\n",
    "# Compute the rank\n",
    "rank = np.linalg.matrix_rank(matrix)\n",
    "\n",
    "print(\"Rank of the matrix:\", rank)"
   ]
  },
  {
   "cell_type": "code",
   "execution_count": 41,
   "id": "20d124ce",
   "metadata": {},
   "outputs": [],
   "source": [
    "# These functions cover a wide range of matrix operations and are very useful \n",
    "# for various mathematical and scientific computing tasks."
   ]
  },
  {
   "cell_type": "code",
   "execution_count": 42,
   "id": "d3d14643",
   "metadata": {},
   "outputs": [],
   "source": [
    "Dense = np.array([[1,0,3,0],[0,0,0,6],[0,5,6,7,],[0,0,1,1]])"
   ]
  },
  {
   "cell_type": "code",
   "execution_count": 43,
   "id": "b2c79153",
   "metadata": {},
   "outputs": [
    {
     "data": {
      "text/plain": [
       "array([[1, 0, 3, 0],\n",
       "       [0, 0, 0, 6],\n",
       "       [0, 5, 6, 7],\n",
       "       [0, 0, 1, 1]])"
      ]
     },
     "execution_count": 43,
     "metadata": {},
     "output_type": "execute_result"
    }
   ],
   "source": [
    "Dense"
   ]
  },
  {
   "cell_type": "code",
   "execution_count": 44,
   "id": "bc450e8d",
   "metadata": {},
   "outputs": [],
   "source": [
    "from scipy.sparse import csr_matrix"
   ]
  },
  {
   "cell_type": "code",
   "execution_count": 45,
   "id": "b561fe0a",
   "metadata": {},
   "outputs": [],
   "source": [
    "sparse= csr_matrix(Dense)"
   ]
  },
  {
   "cell_type": "code",
   "execution_count": 46,
   "id": "749b8b11",
   "metadata": {},
   "outputs": [
    {
     "data": {
      "text/plain": [
       "<4x4 sparse matrix of type '<class 'numpy.intc'>'\n",
       "\twith 8 stored elements in Compressed Sparse Row format>"
      ]
     },
     "execution_count": 46,
     "metadata": {},
     "output_type": "execute_result"
    }
   ],
   "source": [
    "sparse"
   ]
  },
  {
   "cell_type": "code",
   "execution_count": 47,
   "id": "61a8e385",
   "metadata": {},
   "outputs": [
    {
     "name": "stdout",
     "output_type": "stream",
     "text": [
      "  (0, 0)\t1\n",
      "  (0, 2)\t3\n",
      "  (1, 3)\t6\n",
      "  (2, 1)\t5\n",
      "  (2, 2)\t6\n",
      "  (2, 3)\t7\n",
      "  (3, 2)\t1\n",
      "  (3, 3)\t1\n"
     ]
    }
   ],
   "source": [
    "print(sparse)"
   ]
  },
  {
   "cell_type": "code",
   "execution_count": 48,
   "id": "022b03fd",
   "metadata": {},
   "outputs": [
    {
     "name": "stdout",
     "output_type": "stream",
     "text": [
      "  (0, 0)\t1\n",
      "  (0, 1)\t2\n",
      "  (1, 1)\t3\n",
      "  (1, 2)\t4\n",
      "  (2, 2)\t5\n",
      "  (2, 3)\t6\n",
      "  (3, 0)\t8\n",
      "  (3, 3)\t7\n"
     ]
    }
   ],
   "source": [
    "# Create a 4x4 sparse matrix\n",
    "data = np.array([1, 2, 3, 4, 5, 6, 7, 8])\n",
    "row_indices = np.array([0, 0, 1, 1, 2, 2, 3, 3])\n",
    "col_indices = np.array([0, 1, 1, 2, 2, 3, 3, 0])\n",
    "\n",
    "# Create the sparse matrix in Compressed Sparse Row (CSR) format\n",
    "sparse_matrix = csr_matrix((data, (row_indices, col_indices)), shape=(4, 4))\n",
    "\n",
    "print(sparse_matrix)"
   ]
  },
  {
   "cell_type": "code",
   "execution_count": 49,
   "id": "6dd1554a",
   "metadata": {},
   "outputs": [
    {
     "name": "stdout",
     "output_type": "stream",
     "text": [
      "[[1 2 0 0]\n",
      " [0 3 4 0]\n",
      " [0 0 5 6]\n",
      " [8 0 0 7]]\n"
     ]
    }
   ],
   "source": [
    "print(sparse_matrix.toarray()) \n",
    "# Convert sparse matrix to dense format for visualization"
   ]
  },
  {
   "cell_type": "code",
   "execution_count": null,
   "id": "01d5df16",
   "metadata": {},
   "outputs": [],
   "source": []
  }
 ],
 "metadata": {
  "kernelspec": {
   "display_name": "Python 3 (ipykernel)",
   "language": "python",
   "name": "python3"
  },
  "language_info": {
   "codemirror_mode": {
    "name": "ipython",
    "version": 3
   },
   "file_extension": ".py",
   "mimetype": "text/x-python",
   "name": "python",
   "nbconvert_exporter": "python",
   "pygments_lexer": "ipython3",
   "version": "3.9.7"
  }
 },
 "nbformat": 4,
 "nbformat_minor": 5
}
